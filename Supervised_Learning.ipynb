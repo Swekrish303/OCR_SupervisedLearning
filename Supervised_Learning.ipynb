{
  "nbformat": 4,
  "nbformat_minor": 0,
  "metadata": {
    "colab": {
      "provenance": [],
      "gpuType": "T4"
    },
    "kernelspec": {
      "name": "python3",
      "display_name": "Python 3"
    },
    "language_info": {
      "name": "python"
    }
  },
  "cells": [
    {
      "cell_type": "code",
      "execution_count": null,
      "metadata": {
        "id": "JWQdZTGgWcd5",
        "colab": {
          "base_uri": "https://localhost:8080/"
        },
        "outputId": "3fb3fd4f-85f7-4ffa-8420-96c92b8ae1e2"
      },
      "outputs": [
        {
          "output_type": "stream",
          "name": "stdout",
          "text": [
            "Mounted at /content/drive\n"
          ]
        }
      ],
      "source": [
        "from google.colab import drive\n",
        "drive.mount('/content/drive', force_remount=True)"
      ]
    },
    {
      "cell_type": "code",
      "source": [
        "import skimage.io as io\n",
        "import numpy as np\n",
        "from matplotlib import pyplot as plt\n",
        "from skimage.filters import threshold_otsu\n",
        "from skimage.morphology import erosion, dilation\n",
        "%matplotlib inline\n",
        "import skimage\n",
        "from skimage.util import img_as_ubyte\n",
        "from sklearn.model_selection import train_test_split"
      ],
      "metadata": {
        "id": "BrF1Smx4aR-B"
      },
      "execution_count": null,
      "outputs": []
    },
    {
      "cell_type": "code",
      "source": [
        "\n",
        "!apt-get -qq install -y libsm6 libxext6 && pip install -q -U opencv-python"
      ],
      "metadata": {
        "id": "tywbCq3eg5YV"
      },
      "execution_count": null,
      "outputs": []
    },
    {
      "cell_type": "code",
      "source": [
        "import os\n",
        "import cv2"
      ],
      "metadata": {
        "id": "o4OScmDehZpF"
      },
      "execution_count": null,
      "outputs": []
    },
    {
      "cell_type": "code",
      "source": [
        "image_path = \"drive/MyDrive/JPMC_Quant_Dataset\"\n",
        "image_preProcessed = \"drive/MyDrive/JPMC_PreProcessed\"\n",
        "image_train = \"drive/MyDrive/JPMC_Train\"\n",
        "import tensorflow as tf\n",
        "\n",
        "def loadImages(path):\n",
        "    image_files = sorted([os.path.join(path, file)\n",
        "                          for file in os.listdir(path)\n",
        "                          if file.endswith('.png')])\n",
        "    return image_files"
      ],
      "metadata": {
        "id": "xj4lauc3iQb7"
      },
      "execution_count": null,
      "outputs": []
    },
    {
      "cell_type": "code",
      "source": [
        "# Preprocessing\n",
        "def processing(data):\n",
        "  for i in data:\n",
        "    img = io.imread(i, as_gray = True)\n",
        "    #img = io.imread(i)\n",
        "    threshold = threshold_otsu(img)\n",
        "    img_binary = img > threshold\n",
        "    kernel = np.ones((3,3), np.uint8)\n",
        "    img_dilated = dilation(img_binary, kernel)\n",
        "\n",
        "    img_eroded = erosion(img_dilated)\n",
        "\n",
        "    kernel = np.ones((4,1), np.uint8)\n",
        "    img_dilated_2 = dilation(img_eroded, kernel)\n",
        "    file_name = os.path.basename(i)\n",
        "    io.imsave(os.path.join(image_preProcessed, file_name), img_as_ubyte(img_dilated_2))\n",
        "    #io.imsave(os.path.join(image_preProcessed, file_name),img_as_ubyte(img))"
      ],
      "metadata": {
        "id": "6AN2j3vNkJzJ"
      },
      "execution_count": null,
      "outputs": []
    },
    {
      "cell_type": "code",
      "source": [
        "#split each image into 5 images of 100*20 size, store the labels\n",
        "def splitAndStore(data):\n",
        "  i =0\n",
        "  global y,f1,IMGX\n",
        "  y=[]\n",
        "  f1=[]\n",
        "  IMGX=[]\n",
        "  for j in data:\n",
        "    img = io.imread(j, as_gray = True)\n",
        "    start=0\n",
        "    width = img.shape[1]\n",
        "    cut = int(width)/5\n",
        "    file_name = os.path.basename(j)\n",
        "    f1.append(file_name)\n",
        "    for k in [0,1,2,3,4]:\n",
        "      img_cut = img[:, int(start):int(cut)]\n",
        "      start+= width/5\n",
        "      cut += width/5\n",
        "      y+= file_name[k]\n",
        "      ad = str(i) + \".png\"\n",
        "      io.imsave(os.path.join(image_train,ad), img_cut, check_contrast=False)\n",
        "      IMGX.append(img_cut)\n",
        "      i+=1\n",
        "\n"
      ],
      "metadata": {
        "id": "hBwMwhZwfZQK"
      },
      "execution_count": null,
      "outputs": []
    },
    {
      "cell_type": "code",
      "source": [
        "def main():\n",
        "\n",
        "  global image_path\n",
        "  dataset = loadImages(image_path)\n",
        "\n",
        "  processing(dataset)\n",
        "  dataset_2 = loadImages(image_preProcessed)\n",
        "  splitAndStore(dataset_2)\n",
        "\n",
        "main()"
      ],
      "metadata": {
        "id": "EvTBXuNhqAId"
      },
      "execution_count": null,
      "outputs": []
    },
    {
      "cell_type": "code",
      "source": [
        "len(y)"
      ],
      "metadata": {
        "colab": {
          "base_uri": "https://localhost:8080/"
        },
        "id": "SLM7Vo4OqyY6",
        "outputId": "68af6b91-c96d-4886-b569-fc7570f30783"
      },
      "execution_count": null,
      "outputs": [
        {
          "output_type": "execute_result",
          "data": {
            "text/plain": [
              "5000"
            ]
          },
          "metadata": {},
          "execution_count": 45
        }
      ]
    },
    {
      "cell_type": "code",
      "source": [
        "np.array(IMGX[0]).shape\n",
        "xc=np.reshape(IMGX[0],(1,2000))\n",
        "for i in range(1,5000):\n",
        "  xc1=np.reshape(IMGX[i],(1,2000))\n",
        "  xc=np.vstack((xc,xc1))\n",
        "xc.shape"
      ],
      "metadata": {
        "colab": {
          "base_uri": "https://localhost:8080/"
        },
        "id": "OhAW3Qptt7L9",
        "outputId": "8719fc03-11cf-42f4-fb0a-eb95fa0f10bb"
      },
      "execution_count": null,
      "outputs": [
        {
          "output_type": "execute_result",
          "data": {
            "text/plain": [
              "(5000, 2000)"
            ]
          },
          "metadata": {},
          "execution_count": 10
        }
      ]
    },
    {
      "cell_type": "code",
      "source": [
        "import pandas as pd\n",
        "pd.DataFrame(xc).to_csv('/content/drive/MyDrive/JPMC_input_image_data.csv')\n",
        "pd.DataFrame(y).to_csv('/content/drive/MyDrive/JPMC_target.csv')"
      ],
      "metadata": {
        "id": "By3rYC6TDplr"
      },
      "execution_count": null,
      "outputs": []
    },
    {
      "cell_type": "code",
      "source": [
        "X_train, X_test, Y_train, Y_test = train_test_split(xc, y, random_state=0, train_size = .80)\n",
        "print(len(X_train), len(Y_train),len(X_test),len(Y_test))\n",
        "X_train = np.array(X_train)\n",
        "Y_train = np.array(Y_train)\n",
        "X_test = np.array(X_test)\n",
        "Y_test = np.array(Y_test)"
      ],
      "metadata": {
        "colab": {
          "base_uri": "https://localhost:8080/"
        },
        "id": "JnkYouzqAS2h",
        "outputId": "bf1328c0-8d01-4208-a9a9-c3df988af689"
      },
      "execution_count": null,
      "outputs": [
        {
          "output_type": "stream",
          "name": "stdout",
          "text": [
            "4000 4000 1000 1000\n"
          ]
        }
      ]
    },
    {
      "cell_type": "code",
      "source": [
        "X_train.shape"
      ],
      "metadata": {
        "colab": {
          "base_uri": "https://localhost:8080/"
        },
        "id": "ATgNJa-E6crq",
        "outputId": "b69c31bf-849b-4570-e190-188f9eb46e58"
      },
      "execution_count": null,
      "outputs": [
        {
          "output_type": "execute_result",
          "data": {
            "text/plain": [
              "(4000, 2000)"
            ]
          },
          "metadata": {},
          "execution_count": 13
        }
      ]
    },
    {
      "cell_type": "code",
      "source": [
        "print(np.unique(Y_train))\n",
        "Y_train_int = []\n",
        "for char in Y_train:\n",
        "  Y_train_int.append(ord(char)-97)\n",
        "Y_train_int = np.array(Y_train_int)\n",
        "print(np.unique(Y_train_int))\n",
        "Y_test_int=[]\n",
        "for char in Y_test:\n",
        "  Y_test_int.append(ord(char)-97)\n",
        "Y_test_int = np.array(Y_test_int)\n"
      ],
      "metadata": {
        "colab": {
          "base_uri": "https://localhost:8080/"
        },
        "id": "EfemLseu--B6",
        "outputId": "2dafde63-43f5-4a2e-faae-ca134d6ba526"
      },
      "execution_count": null,
      "outputs": [
        {
          "output_type": "stream",
          "name": "stdout",
          "text": [
            "['a' 'b' 'c' 'd' 'e' 'f' 'g' 'h' 'i' 'j' 'k' 'l' 'm' 'n' 'o' 'p' 'q' 'r'\n",
            " 's' 't' 'u' 'v' 'w' 'x' 'y' 'z']\n",
            "[ 0  1  2  3  4  5  6  7  8  9 10 11 12 13 14 15 16 17 18 19 20 21 22 23\n",
            " 24 25]\n"
          ]
        }
      ]
    },
    {
      "cell_type": "markdown",
      "source": [
        "# Logistic Regression"
      ],
      "metadata": {
        "id": "xKBElr0UwO_Z"
      }
    },
    {
      "cell_type": "code",
      "source": [
        "from sklearn.linear_model import LogisticRegression\n",
        "clf1 = LogisticRegression(max_iter=5000)\n",
        "clf1\n",
        "clf1.fit(X_train, Y_train_int)"
      ],
      "metadata": {
        "colab": {
          "base_uri": "https://localhost:8080/",
          "height": 213
        },
        "id": "X0-1Xr0kBKUM",
        "outputId": "7affe631-8821-410a-dc4c-0e71da968183"
      },
      "execution_count": null,
      "outputs": [
        {
          "output_type": "stream",
          "name": "stderr",
          "text": [
            "/usr/local/lib/python3.10/dist-packages/sklearn/linear_model/_logistic.py:458: ConvergenceWarning: lbfgs failed to converge (status=1):\n",
            "STOP: TOTAL NO. of ITERATIONS REACHED LIMIT.\n",
            "\n",
            "Increase the number of iterations (max_iter) or scale the data as shown in:\n",
            "    https://scikit-learn.org/stable/modules/preprocessing.html\n",
            "Please also refer to the documentation for alternative solver options:\n",
            "    https://scikit-learn.org/stable/modules/linear_model.html#logistic-regression\n",
            "  n_iter_i = _check_optimize_result(\n"
          ]
        },
        {
          "output_type": "execute_result",
          "data": {
            "text/plain": [
              "LogisticRegression(max_iter=5000)"
            ],
            "text/html": [
              "<style>#sk-container-id-1 {color: black;background-color: white;}#sk-container-id-1 pre{padding: 0;}#sk-container-id-1 div.sk-toggleable {background-color: white;}#sk-container-id-1 label.sk-toggleable__label {cursor: pointer;display: block;width: 100%;margin-bottom: 0;padding: 0.3em;box-sizing: border-box;text-align: center;}#sk-container-id-1 label.sk-toggleable__label-arrow:before {content: \"▸\";float: left;margin-right: 0.25em;color: #696969;}#sk-container-id-1 label.sk-toggleable__label-arrow:hover:before {color: black;}#sk-container-id-1 div.sk-estimator:hover label.sk-toggleable__label-arrow:before {color: black;}#sk-container-id-1 div.sk-toggleable__content {max-height: 0;max-width: 0;overflow: hidden;text-align: left;background-color: #f0f8ff;}#sk-container-id-1 div.sk-toggleable__content pre {margin: 0.2em;color: black;border-radius: 0.25em;background-color: #f0f8ff;}#sk-container-id-1 input.sk-toggleable__control:checked~div.sk-toggleable__content {max-height: 200px;max-width: 100%;overflow: auto;}#sk-container-id-1 input.sk-toggleable__control:checked~label.sk-toggleable__label-arrow:before {content: \"▾\";}#sk-container-id-1 div.sk-estimator input.sk-toggleable__control:checked~label.sk-toggleable__label {background-color: #d4ebff;}#sk-container-id-1 div.sk-label input.sk-toggleable__control:checked~label.sk-toggleable__label {background-color: #d4ebff;}#sk-container-id-1 input.sk-hidden--visually {border: 0;clip: rect(1px 1px 1px 1px);clip: rect(1px, 1px, 1px, 1px);height: 1px;margin: -1px;overflow: hidden;padding: 0;position: absolute;width: 1px;}#sk-container-id-1 div.sk-estimator {font-family: monospace;background-color: #f0f8ff;border: 1px dotted black;border-radius: 0.25em;box-sizing: border-box;margin-bottom: 0.5em;}#sk-container-id-1 div.sk-estimator:hover {background-color: #d4ebff;}#sk-container-id-1 div.sk-parallel-item::after {content: \"\";width: 100%;border-bottom: 1px solid gray;flex-grow: 1;}#sk-container-id-1 div.sk-label:hover label.sk-toggleable__label {background-color: #d4ebff;}#sk-container-id-1 div.sk-serial::before {content: \"\";position: absolute;border-left: 1px solid gray;box-sizing: border-box;top: 0;bottom: 0;left: 50%;z-index: 0;}#sk-container-id-1 div.sk-serial {display: flex;flex-direction: column;align-items: center;background-color: white;padding-right: 0.2em;padding-left: 0.2em;position: relative;}#sk-container-id-1 div.sk-item {position: relative;z-index: 1;}#sk-container-id-1 div.sk-parallel {display: flex;align-items: stretch;justify-content: center;background-color: white;position: relative;}#sk-container-id-1 div.sk-item::before, #sk-container-id-1 div.sk-parallel-item::before {content: \"\";position: absolute;border-left: 1px solid gray;box-sizing: border-box;top: 0;bottom: 0;left: 50%;z-index: -1;}#sk-container-id-1 div.sk-parallel-item {display: flex;flex-direction: column;z-index: 1;position: relative;background-color: white;}#sk-container-id-1 div.sk-parallel-item:first-child::after {align-self: flex-end;width: 50%;}#sk-container-id-1 div.sk-parallel-item:last-child::after {align-self: flex-start;width: 50%;}#sk-container-id-1 div.sk-parallel-item:only-child::after {width: 0;}#sk-container-id-1 div.sk-dashed-wrapped {border: 1px dashed gray;margin: 0 0.4em 0.5em 0.4em;box-sizing: border-box;padding-bottom: 0.4em;background-color: white;}#sk-container-id-1 div.sk-label label {font-family: monospace;font-weight: bold;display: inline-block;line-height: 1.2em;}#sk-container-id-1 div.sk-label-container {text-align: center;}#sk-container-id-1 div.sk-container {/* jupyter's `normalize.less` sets `[hidden] { display: none; }` but bootstrap.min.css set `[hidden] { display: none !important; }` so we also need the `!important` here to be able to override the default hidden behavior on the sphinx rendered scikit-learn.org. See: https://github.com/scikit-learn/scikit-learn/issues/21755 */display: inline-block !important;position: relative;}#sk-container-id-1 div.sk-text-repr-fallback {display: none;}</style><div id=\"sk-container-id-1\" class=\"sk-top-container\"><div class=\"sk-text-repr-fallback\"><pre>LogisticRegression(max_iter=5000)</pre><b>In a Jupyter environment, please rerun this cell to show the HTML representation or trust the notebook. <br />On GitHub, the HTML representation is unable to render, please try loading this page with nbviewer.org.</b></div><div class=\"sk-container\" hidden><div class=\"sk-item\"><div class=\"sk-estimator sk-toggleable\"><input class=\"sk-toggleable__control sk-hidden--visually\" id=\"sk-estimator-id-1\" type=\"checkbox\" checked><label for=\"sk-estimator-id-1\" class=\"sk-toggleable__label sk-toggleable__label-arrow\">LogisticRegression</label><div class=\"sk-toggleable__content\"><pre>LogisticRegression(max_iter=5000)</pre></div></div></div></div></div>"
            ]
          },
          "metadata": {},
          "execution_count": 52
        }
      ]
    },
    {
      "cell_type": "code",
      "source": [
        "##### Training Data Performance for Logistic Regression\n",
        "from sklearn.metrics import classification_report\n",
        "clr=classification_report(Y_train_int,clf1.predict(X_train))\n",
        "print(clr)"
      ],
      "metadata": {
        "id": "iC4iTmvx_x-a",
        "colab": {
          "base_uri": "https://localhost:8080/"
        },
        "outputId": "0e7691c1-5b13-479e-fc72-ce16d086ed7b"
      },
      "execution_count": null,
      "outputs": [
        {
          "output_type": "stream",
          "name": "stdout",
          "text": [
            "              precision    recall  f1-score   support\n",
            "\n",
            "           0       1.00      1.00      1.00       163\n",
            "           1       1.00      1.00      1.00       162\n",
            "           2       1.00      1.00      1.00       160\n",
            "           3       1.00      0.99      1.00       154\n",
            "           4       1.00      1.00      1.00       159\n",
            "           5       1.00      1.00      1.00       147\n",
            "           6       1.00      1.00      1.00       151\n",
            "           7       1.00      0.99      1.00       130\n",
            "           8       1.00      1.00      1.00       136\n",
            "           9       1.00      0.99      1.00       165\n",
            "          10       1.00      1.00      1.00       152\n",
            "          11       1.00      1.00      1.00       177\n",
            "          12       1.00      1.00      1.00       168\n",
            "          13       1.00      1.00      1.00       149\n",
            "          14       1.00      1.00      1.00       155\n",
            "          15       1.00      1.00      1.00       157\n",
            "          16       1.00      1.00      1.00       140\n",
            "          17       1.00      1.00      1.00       137\n",
            "          18       1.00      0.99      1.00       163\n",
            "          19       1.00      1.00      1.00       149\n",
            "          20       1.00      1.00      1.00       154\n",
            "          21       0.97      1.00      0.99       133\n",
            "          22       1.00      1.00      1.00       150\n",
            "          23       1.00      1.00      1.00       160\n",
            "          24       1.00      1.00      1.00       164\n",
            "          25       1.00      1.00      1.00       165\n",
            "\n",
            "    accuracy                           1.00      4000\n",
            "   macro avg       1.00      1.00      1.00      4000\n",
            "weighted avg       1.00      1.00      1.00      4000\n",
            "\n"
          ]
        }
      ]
    },
    {
      "cell_type": "code",
      "source": [
        "# Testing Data Performance for logistic Regression\n",
        "from sklearn.metrics import classification_report\n",
        "clr=classification_report(Y_test_int,clf1.predict(X_test))\n",
        "print(clr)"
      ],
      "metadata": {
        "id": "FeduuVKdZ0i8",
        "colab": {
          "base_uri": "https://localhost:8080/"
        },
        "outputId": "9734beb6-f435-4b39-8f56-dc04450f5d47"
      },
      "execution_count": null,
      "outputs": [
        {
          "output_type": "stream",
          "name": "stdout",
          "text": [
            "              precision    recall  f1-score   support\n",
            "\n",
            "           0       0.66      0.64      0.65        39\n",
            "           1       0.40      0.55      0.47        31\n",
            "           2       0.54      0.57      0.55        37\n",
            "           3       0.39      0.57      0.47        35\n",
            "           4       0.52      0.43      0.47        35\n",
            "           5       0.51      0.47      0.49        49\n",
            "           6       0.79      0.79      0.79        28\n",
            "           7       0.66      0.61      0.63        41\n",
            "           8       0.68      0.54      0.60        39\n",
            "           9       0.64      0.69      0.67        39\n",
            "          10       0.70      0.66      0.68        32\n",
            "          11       0.39      0.50      0.44        28\n",
            "          12       0.38      0.38      0.38        42\n",
            "          13       0.52      0.32      0.40        50\n",
            "          14       0.56      0.40      0.47        35\n",
            "          15       0.63      0.53      0.58        32\n",
            "          16       0.75      0.73      0.74        45\n",
            "          17       0.63      0.54      0.58        35\n",
            "          18       0.49      0.62      0.55        47\n",
            "          19       0.44      0.58      0.50        31\n",
            "          20       0.69      0.56      0.62        36\n",
            "          21       0.54      0.62      0.58        45\n",
            "          22       0.62      0.67      0.64        36\n",
            "          23       0.56      0.51      0.53        45\n",
            "          24       0.53      0.47      0.50        40\n",
            "          25       0.56      0.65      0.60        48\n",
            "\n",
            "    accuracy                           0.56      1000\n",
            "   macro avg       0.57      0.56      0.56      1000\n",
            "weighted avg       0.57      0.56      0.56      1000\n",
            "\n"
          ]
        }
      ]
    },
    {
      "cell_type": "markdown",
      "source": [
        "## SVM\n"
      ],
      "metadata": {
        "id": "4tSDkMNQJt-O"
      }
    },
    {
      "cell_type": "code",
      "source": [
        "###### SVM\n",
        "from sklearn.svm import SVC\n",
        "clf2=SVC(kernel='rbf')\n",
        "clf2\n",
        "clf2.fit(X_train, Y_train_int)"
      ],
      "metadata": {
        "id": "lUfg4RZ3Z_sA",
        "colab": {
          "base_uri": "https://localhost:8080/",
          "height": 74
        },
        "outputId": "0c11ecf5-41cf-494f-fbd9-59f968e25265"
      },
      "execution_count": null,
      "outputs": [
        {
          "output_type": "execute_result",
          "data": {
            "text/plain": [
              "SVC()"
            ],
            "text/html": [
              "<style>#sk-container-id-2 {color: black;background-color: white;}#sk-container-id-2 pre{padding: 0;}#sk-container-id-2 div.sk-toggleable {background-color: white;}#sk-container-id-2 label.sk-toggleable__label {cursor: pointer;display: block;width: 100%;margin-bottom: 0;padding: 0.3em;box-sizing: border-box;text-align: center;}#sk-container-id-2 label.sk-toggleable__label-arrow:before {content: \"▸\";float: left;margin-right: 0.25em;color: #696969;}#sk-container-id-2 label.sk-toggleable__label-arrow:hover:before {color: black;}#sk-container-id-2 div.sk-estimator:hover label.sk-toggleable__label-arrow:before {color: black;}#sk-container-id-2 div.sk-toggleable__content {max-height: 0;max-width: 0;overflow: hidden;text-align: left;background-color: #f0f8ff;}#sk-container-id-2 div.sk-toggleable__content pre {margin: 0.2em;color: black;border-radius: 0.25em;background-color: #f0f8ff;}#sk-container-id-2 input.sk-toggleable__control:checked~div.sk-toggleable__content {max-height: 200px;max-width: 100%;overflow: auto;}#sk-container-id-2 input.sk-toggleable__control:checked~label.sk-toggleable__label-arrow:before {content: \"▾\";}#sk-container-id-2 div.sk-estimator input.sk-toggleable__control:checked~label.sk-toggleable__label {background-color: #d4ebff;}#sk-container-id-2 div.sk-label input.sk-toggleable__control:checked~label.sk-toggleable__label {background-color: #d4ebff;}#sk-container-id-2 input.sk-hidden--visually {border: 0;clip: rect(1px 1px 1px 1px);clip: rect(1px, 1px, 1px, 1px);height: 1px;margin: -1px;overflow: hidden;padding: 0;position: absolute;width: 1px;}#sk-container-id-2 div.sk-estimator {font-family: monospace;background-color: #f0f8ff;border: 1px dotted black;border-radius: 0.25em;box-sizing: border-box;margin-bottom: 0.5em;}#sk-container-id-2 div.sk-estimator:hover {background-color: #d4ebff;}#sk-container-id-2 div.sk-parallel-item::after {content: \"\";width: 100%;border-bottom: 1px solid gray;flex-grow: 1;}#sk-container-id-2 div.sk-label:hover label.sk-toggleable__label {background-color: #d4ebff;}#sk-container-id-2 div.sk-serial::before {content: \"\";position: absolute;border-left: 1px solid gray;box-sizing: border-box;top: 0;bottom: 0;left: 50%;z-index: 0;}#sk-container-id-2 div.sk-serial {display: flex;flex-direction: column;align-items: center;background-color: white;padding-right: 0.2em;padding-left: 0.2em;position: relative;}#sk-container-id-2 div.sk-item {position: relative;z-index: 1;}#sk-container-id-2 div.sk-parallel {display: flex;align-items: stretch;justify-content: center;background-color: white;position: relative;}#sk-container-id-2 div.sk-item::before, #sk-container-id-2 div.sk-parallel-item::before {content: \"\";position: absolute;border-left: 1px solid gray;box-sizing: border-box;top: 0;bottom: 0;left: 50%;z-index: -1;}#sk-container-id-2 div.sk-parallel-item {display: flex;flex-direction: column;z-index: 1;position: relative;background-color: white;}#sk-container-id-2 div.sk-parallel-item:first-child::after {align-self: flex-end;width: 50%;}#sk-container-id-2 div.sk-parallel-item:last-child::after {align-self: flex-start;width: 50%;}#sk-container-id-2 div.sk-parallel-item:only-child::after {width: 0;}#sk-container-id-2 div.sk-dashed-wrapped {border: 1px dashed gray;margin: 0 0.4em 0.5em 0.4em;box-sizing: border-box;padding-bottom: 0.4em;background-color: white;}#sk-container-id-2 div.sk-label label {font-family: monospace;font-weight: bold;display: inline-block;line-height: 1.2em;}#sk-container-id-2 div.sk-label-container {text-align: center;}#sk-container-id-2 div.sk-container {/* jupyter's `normalize.less` sets `[hidden] { display: none; }` but bootstrap.min.css set `[hidden] { display: none !important; }` so we also need the `!important` here to be able to override the default hidden behavior on the sphinx rendered scikit-learn.org. See: https://github.com/scikit-learn/scikit-learn/issues/21755 */display: inline-block !important;position: relative;}#sk-container-id-2 div.sk-text-repr-fallback {display: none;}</style><div id=\"sk-container-id-2\" class=\"sk-top-container\"><div class=\"sk-text-repr-fallback\"><pre>SVC()</pre><b>In a Jupyter environment, please rerun this cell to show the HTML representation or trust the notebook. <br />On GitHub, the HTML representation is unable to render, please try loading this page with nbviewer.org.</b></div><div class=\"sk-container\" hidden><div class=\"sk-item\"><div class=\"sk-estimator sk-toggleable\"><input class=\"sk-toggleable__control sk-hidden--visually\" id=\"sk-estimator-id-2\" type=\"checkbox\" checked><label for=\"sk-estimator-id-2\" class=\"sk-toggleable__label sk-toggleable__label-arrow\">SVC</label><div class=\"sk-toggleable__content\"><pre>SVC()</pre></div></div></div></div></div>"
            ]
          },
          "metadata": {},
          "execution_count": 25
        }
      ]
    },
    {
      "cell_type": "code",
      "source": [
        "##### Training Data Performance for SVM\n",
        "from sklearn.metrics import classification_report\n",
        "clr=classification_report(Y_train_int,clf2.predict(X_train))\n",
        "print(clr)"
      ],
      "metadata": {
        "colab": {
          "base_uri": "https://localhost:8080/"
        },
        "id": "f4krq9lx64Za",
        "outputId": "e1074850-6115-4992-9f02-0b61f0fe38c8"
      },
      "execution_count": null,
      "outputs": [
        {
          "output_type": "stream",
          "name": "stdout",
          "text": [
            "              precision    recall  f1-score   support\n",
            "\n",
            "           0       0.94      0.91      0.93       163\n",
            "           1       0.89      0.82      0.85       162\n",
            "           2       0.82      0.80      0.81       160\n",
            "           3       0.89      0.78      0.83       154\n",
            "           4       0.93      0.90      0.92       159\n",
            "           5       0.84      0.80      0.82       147\n",
            "           6       0.99      0.91      0.95       151\n",
            "           7       0.74      0.78      0.76       130\n",
            "           8       0.94      0.68      0.79       136\n",
            "           9       0.44      0.95      0.60       165\n",
            "          10       0.85      0.84      0.84       152\n",
            "          11       0.49      0.88      0.63       177\n",
            "          12       0.82      0.83      0.82       168\n",
            "          13       1.00      0.78      0.88       149\n",
            "          14       0.89      0.76      0.82       155\n",
            "          15       0.92      0.89      0.91       157\n",
            "          16       0.94      0.86      0.90       140\n",
            "          17       0.91      0.75      0.82       137\n",
            "          18       0.95      0.78      0.86       163\n",
            "          19       0.90      0.79      0.84       149\n",
            "          20       0.92      0.84      0.88       154\n",
            "          21       0.88      0.77      0.82       133\n",
            "          22       0.99      0.81      0.89       150\n",
            "          23       0.89      0.81      0.85       160\n",
            "          24       0.77      0.82      0.80       164\n",
            "          25       0.96      0.79      0.86       165\n",
            "\n",
            "    accuracy                           0.82      4000\n",
            "   macro avg       0.87      0.82      0.83      4000\n",
            "weighted avg       0.86      0.82      0.83      4000\n",
            "\n"
          ]
        }
      ]
    },
    {
      "cell_type": "code",
      "source": [
        "# Testing Data Performance for SVM\n",
        "from sklearn.metrics import classification_report\n",
        "clr=classification_report(Y_test_int,clf2.predict(X_test))\n",
        "print(clr)"
      ],
      "metadata": {
        "colab": {
          "base_uri": "https://localhost:8080/"
        },
        "id": "rBfARETL67dR",
        "outputId": "97e7a489-d254-4bac-88e7-94407db5c96c"
      },
      "execution_count": null,
      "outputs": [
        {
          "output_type": "stream",
          "name": "stdout",
          "text": [
            "              precision    recall  f1-score   support\n",
            "\n",
            "           0       0.94      0.82      0.88        39\n",
            "           1       0.61      0.74      0.67        31\n",
            "           2       0.63      0.70      0.67        37\n",
            "           3       0.71      0.69      0.70        35\n",
            "           4       0.70      0.66      0.68        35\n",
            "           5       0.70      0.61      0.65        49\n",
            "           6       0.95      0.71      0.82        28\n",
            "           7       0.67      0.68      0.67        41\n",
            "           8       0.82      0.59      0.69        39\n",
            "           9       0.38      0.85      0.52        39\n",
            "          10       0.74      0.72      0.73        32\n",
            "          11       0.29      0.71      0.42        28\n",
            "          12       0.54      0.60      0.57        42\n",
            "          13       0.77      0.48      0.59        50\n",
            "          14       0.78      0.51      0.62        35\n",
            "          15       0.68      0.84      0.75        32\n",
            "          16       0.87      0.73      0.80        45\n",
            "          17       0.85      0.63      0.72        35\n",
            "          18       0.78      0.62      0.69        47\n",
            "          19       0.77      0.74      0.75        31\n",
            "          20       0.77      0.75      0.76        36\n",
            "          21       0.80      0.73      0.77        45\n",
            "          22       0.97      0.83      0.90        36\n",
            "          23       0.83      0.76      0.79        45\n",
            "          24       0.66      0.62      0.64        40\n",
            "          25       0.86      0.77      0.81        48\n",
            "\n",
            "    accuracy                           0.69      1000\n",
            "   macro avg       0.73      0.70      0.70      1000\n",
            "weighted avg       0.74      0.69      0.70      1000\n",
            "\n"
          ]
        }
      ]
    },
    {
      "cell_type": "markdown",
      "source": [
        "## Random Forest"
      ],
      "metadata": {
        "id": "KjsK9OPlJx5P"
      }
    },
    {
      "cell_type": "code",
      "source": [
        "###### Random Forest\n",
        "from sklearn.ensemble import RandomForestClassifier\n",
        "clf3=RandomForestClassifier(n_estimators=2000)\n",
        "clf3\n",
        "clf3.fit(X_train, Y_train_int)"
      ],
      "metadata": {
        "colab": {
          "base_uri": "https://localhost:8080/",
          "height": 74
        },
        "id": "BC1khkQr6-J7",
        "outputId": "d3b36d91-b717-456f-de7f-8eb4ab3b47be"
      },
      "execution_count": null,
      "outputs": [
        {
          "output_type": "execute_result",
          "data": {
            "text/plain": [
              "RandomForestClassifier(n_estimators=2000)"
            ],
            "text/html": [
              "<style>#sk-container-id-1 {color: black;background-color: white;}#sk-container-id-1 pre{padding: 0;}#sk-container-id-1 div.sk-toggleable {background-color: white;}#sk-container-id-1 label.sk-toggleable__label {cursor: pointer;display: block;width: 100%;margin-bottom: 0;padding: 0.3em;box-sizing: border-box;text-align: center;}#sk-container-id-1 label.sk-toggleable__label-arrow:before {content: \"▸\";float: left;margin-right: 0.25em;color: #696969;}#sk-container-id-1 label.sk-toggleable__label-arrow:hover:before {color: black;}#sk-container-id-1 div.sk-estimator:hover label.sk-toggleable__label-arrow:before {color: black;}#sk-container-id-1 div.sk-toggleable__content {max-height: 0;max-width: 0;overflow: hidden;text-align: left;background-color: #f0f8ff;}#sk-container-id-1 div.sk-toggleable__content pre {margin: 0.2em;color: black;border-radius: 0.25em;background-color: #f0f8ff;}#sk-container-id-1 input.sk-toggleable__control:checked~div.sk-toggleable__content {max-height: 200px;max-width: 100%;overflow: auto;}#sk-container-id-1 input.sk-toggleable__control:checked~label.sk-toggleable__label-arrow:before {content: \"▾\";}#sk-container-id-1 div.sk-estimator input.sk-toggleable__control:checked~label.sk-toggleable__label {background-color: #d4ebff;}#sk-container-id-1 div.sk-label input.sk-toggleable__control:checked~label.sk-toggleable__label {background-color: #d4ebff;}#sk-container-id-1 input.sk-hidden--visually {border: 0;clip: rect(1px 1px 1px 1px);clip: rect(1px, 1px, 1px, 1px);height: 1px;margin: -1px;overflow: hidden;padding: 0;position: absolute;width: 1px;}#sk-container-id-1 div.sk-estimator {font-family: monospace;background-color: #f0f8ff;border: 1px dotted black;border-radius: 0.25em;box-sizing: border-box;margin-bottom: 0.5em;}#sk-container-id-1 div.sk-estimator:hover {background-color: #d4ebff;}#sk-container-id-1 div.sk-parallel-item::after {content: \"\";width: 100%;border-bottom: 1px solid gray;flex-grow: 1;}#sk-container-id-1 div.sk-label:hover label.sk-toggleable__label {background-color: #d4ebff;}#sk-container-id-1 div.sk-serial::before {content: \"\";position: absolute;border-left: 1px solid gray;box-sizing: border-box;top: 0;bottom: 0;left: 50%;z-index: 0;}#sk-container-id-1 div.sk-serial {display: flex;flex-direction: column;align-items: center;background-color: white;padding-right: 0.2em;padding-left: 0.2em;position: relative;}#sk-container-id-1 div.sk-item {position: relative;z-index: 1;}#sk-container-id-1 div.sk-parallel {display: flex;align-items: stretch;justify-content: center;background-color: white;position: relative;}#sk-container-id-1 div.sk-item::before, #sk-container-id-1 div.sk-parallel-item::before {content: \"\";position: absolute;border-left: 1px solid gray;box-sizing: border-box;top: 0;bottom: 0;left: 50%;z-index: -1;}#sk-container-id-1 div.sk-parallel-item {display: flex;flex-direction: column;z-index: 1;position: relative;background-color: white;}#sk-container-id-1 div.sk-parallel-item:first-child::after {align-self: flex-end;width: 50%;}#sk-container-id-1 div.sk-parallel-item:last-child::after {align-self: flex-start;width: 50%;}#sk-container-id-1 div.sk-parallel-item:only-child::after {width: 0;}#sk-container-id-1 div.sk-dashed-wrapped {border: 1px dashed gray;margin: 0 0.4em 0.5em 0.4em;box-sizing: border-box;padding-bottom: 0.4em;background-color: white;}#sk-container-id-1 div.sk-label label {font-family: monospace;font-weight: bold;display: inline-block;line-height: 1.2em;}#sk-container-id-1 div.sk-label-container {text-align: center;}#sk-container-id-1 div.sk-container {/* jupyter's `normalize.less` sets `[hidden] { display: none; }` but bootstrap.min.css set `[hidden] { display: none !important; }` so we also need the `!important` here to be able to override the default hidden behavior on the sphinx rendered scikit-learn.org. See: https://github.com/scikit-learn/scikit-learn/issues/21755 */display: inline-block !important;position: relative;}#sk-container-id-1 div.sk-text-repr-fallback {display: none;}</style><div id=\"sk-container-id-1\" class=\"sk-top-container\"><div class=\"sk-text-repr-fallback\"><pre>RandomForestClassifier(n_estimators=2000)</pre><b>In a Jupyter environment, please rerun this cell to show the HTML representation or trust the notebook. <br />On GitHub, the HTML representation is unable to render, please try loading this page with nbviewer.org.</b></div><div class=\"sk-container\" hidden><div class=\"sk-item\"><div class=\"sk-estimator sk-toggleable\"><input class=\"sk-toggleable__control sk-hidden--visually\" id=\"sk-estimator-id-1\" type=\"checkbox\" checked><label for=\"sk-estimator-id-1\" class=\"sk-toggleable__label sk-toggleable__label-arrow\">RandomForestClassifier</label><div class=\"sk-toggleable__content\"><pre>RandomForestClassifier(n_estimators=2000)</pre></div></div></div></div></div>"
            ]
          },
          "metadata": {},
          "execution_count": 19
        }
      ]
    },
    {
      "cell_type": "code",
      "source": [
        "##### Training Data Performance for RF\n",
        "from sklearn.metrics import classification_report\n",
        "clr=classification_report(Y_train_int,clf3.predict(X_train))\n",
        "print(clr)"
      ],
      "metadata": {
        "colab": {
          "base_uri": "https://localhost:8080/"
        },
        "id": "8XKPXrvf7AtZ",
        "outputId": "4b626d5b-66f2-460a-dc29-08f78a723ebd"
      },
      "execution_count": null,
      "outputs": [
        {
          "output_type": "stream",
          "name": "stdout",
          "text": [
            "              precision    recall  f1-score   support\n",
            "\n",
            "           0       1.00      1.00      1.00       163\n",
            "           1       1.00      1.00      1.00       162\n",
            "           2       1.00      1.00      1.00       160\n",
            "           3       1.00      0.99      1.00       154\n",
            "           4       1.00      1.00      1.00       159\n",
            "           5       1.00      1.00      1.00       147\n",
            "           6       1.00      1.00      1.00       151\n",
            "           7       1.00      0.99      1.00       130\n",
            "           8       1.00      1.00      1.00       136\n",
            "           9       1.00      0.99      1.00       165\n",
            "          10       1.00      1.00      1.00       152\n",
            "          11       1.00      1.00      1.00       177\n",
            "          12       1.00      1.00      1.00       168\n",
            "          13       1.00      1.00      1.00       149\n",
            "          14       1.00      1.00      1.00       155\n",
            "          15       1.00      1.00      1.00       157\n",
            "          16       1.00      1.00      1.00       140\n",
            "          17       1.00      1.00      1.00       137\n",
            "          18       0.98      1.00      0.99       163\n",
            "          19       1.00      1.00      1.00       149\n",
            "          20       1.00      1.00      1.00       154\n",
            "          21       1.00      0.99      1.00       133\n",
            "          22       1.00      1.00      1.00       150\n",
            "          23       1.00      1.00      1.00       160\n",
            "          24       1.00      1.00      1.00       164\n",
            "          25       1.00      1.00      1.00       165\n",
            "\n",
            "    accuracy                           1.00      4000\n",
            "   macro avg       1.00      1.00      1.00      4000\n",
            "weighted avg       1.00      1.00      1.00      4000\n",
            "\n"
          ]
        }
      ]
    },
    {
      "cell_type": "code",
      "source": [
        "# Testing Data Performance for RF\n",
        "from sklearn.metrics import classification_report\n",
        "clr=classification_report(Y_test_int,clf3.predict(X_test))\n",
        "print(clr)"
      ],
      "metadata": {
        "colab": {
          "base_uri": "https://localhost:8080/"
        },
        "id": "uIweGbct7DNm",
        "outputId": "338872dc-faaa-4b49-81ac-2a8ec6a44ee1"
      },
      "execution_count": null,
      "outputs": [
        {
          "output_type": "stream",
          "name": "stdout",
          "text": [
            "              precision    recall  f1-score   support\n",
            "\n",
            "           0       0.89      0.79      0.84        39\n",
            "           1       0.67      0.71      0.69        31\n",
            "           2       0.70      0.62      0.66        37\n",
            "           3       0.65      0.69      0.67        35\n",
            "           4       0.68      0.71      0.69        35\n",
            "           5       0.62      0.61      0.62        49\n",
            "           6       0.96      0.79      0.86        28\n",
            "           7       0.65      0.63      0.64        41\n",
            "           8       0.69      0.56      0.62        39\n",
            "           9       0.58      0.90      0.71        39\n",
            "          10       0.74      0.78      0.76        32\n",
            "          11       0.40      0.61      0.49        28\n",
            "          12       0.59      0.62      0.60        42\n",
            "          13       0.78      0.56      0.65        50\n",
            "          14       0.74      0.57      0.65        35\n",
            "          15       0.61      0.72      0.66        32\n",
            "          16       0.83      0.76      0.79        45\n",
            "          17       0.73      0.63      0.68        35\n",
            "          18       0.80      0.68      0.74        47\n",
            "          19       0.70      0.74      0.72        31\n",
            "          20       0.64      0.78      0.70        36\n",
            "          21       0.72      0.76      0.74        45\n",
            "          22       0.94      0.89      0.91        36\n",
            "          23       0.77      0.76      0.76        45\n",
            "          24       0.64      0.68      0.66        40\n",
            "          25       0.74      0.71      0.72        48\n",
            "\n",
            "    accuracy                           0.70      1000\n",
            "   macro avg       0.71      0.70      0.70      1000\n",
            "weighted avg       0.71      0.70      0.70      1000\n",
            "\n"
          ]
        }
      ]
    },
    {
      "cell_type": "code",
      "source": [
        "clf_name=['LOGIS_REG','SVM','RF']\n",
        "Testing_Perfo=[56,69,70]\n",
        "plt.bar(clf_name,Testing_Perfo)\n",
        "plt.title('Testing Performance Comparision')"
      ],
      "metadata": {
        "colab": {
          "base_uri": "https://localhost:8080/",
          "height": 469
        },
        "id": "ojquQXRG7R4y",
        "outputId": "e3a22a0e-3e10-4c2e-970c-738aec839760"
      },
      "execution_count": null,
      "outputs": [
        {
          "output_type": "execute_result",
          "data": {
            "text/plain": [
              "Text(0.5, 1.0, 'Testing Performance Comparision')"
            ]
          },
          "metadata": {},
          "execution_count": 73
        },
        {
          "output_type": "display_data",
          "data": {
            "text/plain": [
              "<Figure size 640x480 with 1 Axes>"
            ],
            "image/png": "[encoded data removed]"
          },
          "metadata": {}
        }
      ]
    },
    {
      "cell_type": "markdown",
      "source": [
        "# Answers"
      ],
      "metadata": {
        "id": "n70iIFVGJqEe"
      }
    },
    {
      "cell_type": "markdown",
      "source": [
        "## Q1"
      ],
      "metadata": {
        "id": "ev2XBdfzOaPy"
      }
    },
    {
      "cell_type": "markdown",
      "source": [
        "We chose the Random Forest Classifier based on the initial assessment. This algorithm yielded the best accuracy on the validation set.\n"
      ],
      "metadata": {
        "id": "KdQaXMviKOx1"
      }
    },
    {
      "cell_type": "code",
      "source": [
        "print(accuracy_score(Y_test_int,clf2.predict(X_test))) #SVM\n",
        "print(accuracy_score(Y_test_int,clf3.predict(X_test))) #Random Forest"
      ],
      "metadata": {
        "colab": {
          "base_uri": "https://localhost:8080/"
        },
        "id": "hfjEAUHYpZbP",
        "outputId": "38a6426c-1968-446c-d89b-fb0174e5634c"
      },
      "execution_count": null,
      "outputs": [
        {
          "output_type": "stream",
          "name": "stdout",
          "text": [
            "0.692\n",
            "0.695\n"
          ]
        }
      ]
    },
    {
      "cell_type": "code",
      "source": [
        "from yellowbrick.datasets import load_game\n",
        "from yellowbrick.target import ClassBalance\n",
        "\n",
        "visualizer = ClassBalance(labels= np.unique(np.array(y)))\n",
        "visualizer.fit(np.array(y))\n",
        "visualizer.show()"
      ],
      "metadata": {
        "colab": {
          "base_uri": "https://localhost:8080/",
          "height": 521
        },
        "id": "Jk7YnVJlNhvE",
        "outputId": "c4696d1b-1174-421f-ccc4-773a50a80fb4"
      },
      "execution_count": null,
      "outputs": [
        {
          "output_type": "display_data",
          "data": {
            "text/plain": [
              "<Figure size 800x550 with 1 Axes>"
            ],
            "image/png": "[encoded data removed]"
          },
          "metadata": {}
        },
        {
          "output_type": "execute_result",
          "data": {
            "text/plain": [
              "<Axes: title={'center': 'Class Balance for 5,000 Instances'}, ylabel='support'>"
            ]
          },
          "metadata": {},
          "execution_count": 84
        }
      ]
    },
    {
      "cell_type": "markdown",
      "source": [
        "We see that the dataset contains a certain degree of class imbalance. Accuracy, in such a case will not take into account the number of correctly classified samples in each class. Monitoring precision and recall becomes important in such cases. Hence evaluation of a model's performance must be based on considering all these factors rather than accuracy alone. In certain classification problems, results belonging to a certain class may carry more weight - for example, the percentage of false negatives may be a more important consideration for problems in the field of medicine (recall has to be high here). Typically, a precision-recall tradeoff exists, and to optimize both factors the F1 score is calculated (a combination of precision and recall). Hence the F1 score (or precision and recall individually depending on the domain's need) and accuracy are to be analysed together."
      ],
      "metadata": {
        "id": "oRl0ZDwPOP7i"
      }
    },
    {
      "cell_type": "markdown",
      "source": [
        "## Q2\n",
        "Algorithms like RandomizedSearchCV are present in order to identify the best combination of parameters for the model by iteratively fitting the model with different combinations and evaluating the accuracy. However, the computational load of this algorithm was high for our system. Hence we manually tweaked certain hyperparameters to identify the best combination.\n",
        "\n",
        "We mainly tried different combinations for the n_estimators and max_depth parameters. A higher than required value of these parameters may cause overfitting leading to poor test performance. A lower than required value causes underfitting. Hence we vary the values of these parameters in both directions.\n"
      ],
      "metadata": {
        "id": "I4n6lZzTRqRJ"
      }
    },
    {
      "cell_type": "code",
      "source": [
        "print(accuracy_score(Y_test_int,clf3.predict(X_test)))"
      ],
      "metadata": {
        "colab": {
          "base_uri": "https://localhost:8080/"
        },
        "id": "l5muuhowpMcg",
        "outputId": "6a5ca8ae-6648-4b4c-c0c8-f4e8780e300b"
      },
      "execution_count": null,
      "outputs": [
        {
          "output_type": "stream",
          "name": "stdout",
          "text": [
            "0.695\n"
          ]
        }
      ]
    },
    {
      "cell_type": "code",
      "source": [
        "from sklearn.ensemble import RandomForestClassifier\n",
        "from sklearn.metrics import accuracy_score\n",
        "clf_rf1=RandomForestClassifier(n_estimators=2000, max_depth=55)\n",
        "clf_rf1\n",
        "clf_rf1.fit(X_train, Y_train_int)\n",
        "print(accuracy_score(Y_test_int,clf_rf1.predict(X_test)))"
      ],
      "metadata": {
        "colab": {
          "base_uri": "https://localhost:8080/"
        },
        "id": "kAh_k7Bkf1WE",
        "outputId": "2ba4bc2c-e7eb-4c02-8fec-27f710411d31"
      },
      "execution_count": null,
      "outputs": [
        {
          "output_type": "stream",
          "name": "stdout",
          "text": [
            "0.698\n"
          ]
        }
      ]
    },
    {
      "cell_type": "code",
      "source": [
        "from sklearn.ensemble import RandomForestClassifier\n",
        "from sklearn.metrics import accuracy_score\n",
        "clf_rf2=RandomForestClassifier(n_estimators=2000, max_depth=22)\n",
        "clf_rf2\n",
        "clf_rf2.fit(X_train, Y_train_int)\n",
        "print(accuracy_score(Y_test_int,clf_rf2.predict(X_test)))"
      ],
      "metadata": {
        "colab": {
          "base_uri": "https://localhost:8080/"
        },
        "id": "mwn8tS2GhWPe",
        "outputId": "f0c087dc-6317-40a3-c6bc-fbda3f562343"
      },
      "execution_count": null,
      "outputs": [
        {
          "output_type": "stream",
          "name": "stdout",
          "text": [
            "0.69\n"
          ]
        }
      ]
    },
    {
      "cell_type": "code",
      "source": [
        "from sklearn.ensemble import RandomForestClassifier\n",
        "from sklearn.metrics import accuracy_score\n",
        "clf_rf3=RandomForestClassifier(n_estimators=1500, max_depth=55)\n",
        "clf_rf3\n",
        "clf_rf3.fit(X_train, Y_train_int)\n",
        "print(accuracy_score(Y_test_int,clf_rf3.predict(X_test)))"
      ],
      "metadata": {
        "colab": {
          "base_uri": "https://localhost:8080/"
        },
        "id": "NveJh4CPiK-S",
        "outputId": "75df2e9b-0c42-45e3-a0c9-9cd30580384f"
      },
      "execution_count": null,
      "outputs": [
        {
          "output_type": "stream",
          "name": "stdout",
          "text": [
            "0.686\n"
          ]
        }
      ]
    },
    {
      "cell_type": "code",
      "source": [
        "from sklearn.ensemble import RandomForestClassifier\n",
        "from sklearn.metrics import accuracy_score\n",
        "clf_rf4=RandomForestClassifier(n_estimators=2000, max_depth=100)\n",
        "clf_rf4\n",
        "clf_rf4.fit(X_train, Y_train_int)\n",
        "print(accuracy_score(Y_test_int,clf_rf4.predict(X_test)))"
      ],
      "metadata": {
        "colab": {
          "base_uri": "https://localhost:8080/"
        },
        "id": "E_oaA13qie6V",
        "outputId": "c272fa0f-2f84-4f3b-dd8a-aeac0b08789d"
      },
      "execution_count": null,
      "outputs": [
        {
          "output_type": "stream",
          "name": "stdout",
          "text": [
            "0.695\n"
          ]
        }
      ]
    },
    {
      "cell_type": "code",
      "source": [
        "from sklearn.ensemble import RandomForestClassifier\n",
        "from sklearn.metrics import accuracy_score\n",
        "clf_rf5=RandomForestClassifier(n_estimators=2500)\n",
        "clf_rf5\n",
        "clf_rf5.fit(X_train, Y_train_int)\n",
        "print(accuracy_score(Y_test_int,clf_rf5.predict(X_test)))"
      ],
      "metadata": {
        "colab": {
          "base_uri": "https://localhost:8080/"
        },
        "id": "fvJcJVc9kIOw",
        "outputId": "6b726558-8682-40f8-8fdb-8b8f24a1c680"
      },
      "execution_count": null,
      "outputs": [
        {
          "output_type": "stream",
          "name": "stdout",
          "text": [
            "0.691\n"
          ]
        }
      ]
    },
    {
      "cell_type": "code",
      "source": [
        "from sklearn.ensemble import RandomForestClassifier\n",
        "from sklearn.metrics import accuracy_score\n",
        "clf_rf6=RandomForestClassifier(n_estimators=2000, min_samples_split=3)\n",
        "clf_rf6\n",
        "clf_rf6.fit(X_train, Y_train_int)\n",
        "print(accuracy_score(Y_test_int,clf_rf6.predict(X_test)))"
      ],
      "metadata": {
        "colab": {
          "base_uri": "https://localhost:8080/"
        },
        "id": "v4rNxN74nohh",
        "outputId": "dfb0c6df-b2ff-4893-83cf-f6ea596c3155"
      },
      "execution_count": null,
      "outputs": [
        {
          "output_type": "stream",
          "name": "stdout",
          "text": [
            "0.692\n"
          ]
        }
      ]
    },
    {
      "cell_type": "code",
      "source": [
        "from sklearn.ensemble import RandomForestClassifier\n",
        "from sklearn.metrics import accuracy_score\n",
        "clf_rf7=RandomForestClassifier(n_estimators=2200)\n",
        "clf_rf7\n",
        "clf_rf7.fit(X_train, Y_train_int)\n",
        "print(accuracy_score(Y_test_int,clf_rf7.predict(X_test)))"
      ],
      "metadata": {
        "colab": {
          "base_uri": "https://localhost:8080/"
        },
        "id": "1hLnuF0zoLhH",
        "outputId": "56051367-26a9-413d-953d-3a74eb2c7960"
      },
      "execution_count": null,
      "outputs": [
        {
          "output_type": "stream",
          "name": "stdout",
          "text": [
            "0.695\n"
          ]
        }
      ]
    },
    {
      "cell_type": "code",
      "source": [
        "from sklearn.ensemble import RandomForestClassifier\n",
        "from sklearn.metrics import accuracy_score\n",
        "clf_rf8=RandomForestClassifier(n_estimators=2000, max_depth=50)\n",
        "clf_rf8\n",
        "clf_rf8.fit(X_train, Y_train_int)\n",
        "print(accuracy_score(Y_test_int,clf_rf8.predict(X_test)))"
      ],
      "metadata": {
        "colab": {
          "base_uri": "https://localhost:8080/"
        },
        "id": "-833bAkUqEcY",
        "outputId": "afa51c18-5ec0-4cac-e201-7f82c90ca1b3"
      },
      "execution_count": null,
      "outputs": [
        {
          "output_type": "stream",
          "name": "stdout",
          "text": [
            "0.694\n"
          ]
        }
      ]
    },
    {
      "cell_type": "code",
      "source": [
        "from sklearn.ensemble import RandomForestClassifier\n",
        "from sklearn.metrics import accuracy_score\n",
        "clf_rf9=RandomForestClassifier(n_estimators=2000, max_depth=55,criterion='entropy')\n",
        "clf_rf9\n",
        "clf_rf9.fit(X_train, Y_train_int)\n",
        "print(accuracy_score(Y_test_int,clf_rf9.predict(X_test)))"
      ],
      "metadata": {
        "colab": {
          "base_uri": "https://localhost:8080/"
        },
        "id": "dz9S3iAGracn",
        "outputId": "3ddd8d6a-bfb4-40f0-8c9e-c1d22264750c"
      },
      "execution_count": null,
      "outputs": [
        {
          "output_type": "stream",
          "name": "stdout",
          "text": [
            "0.677\n"
          ]
        }
      ]
    },
    {
      "cell_type": "markdown",
      "source": [
        "The accuracy does not improve by any significant amount on tweaking the hyperparameters as above. We see that n_estimators=2000, max_depth=55, with other parameters set to their default values gives the best results. n_estimators is increased from the default value, this increases the number of decision trees and thus improves performance. A deeper tree is more prone to overfitting and low depth causes underfitting, by experimentation we find the best value for max_depth to be 55. This gives an accuracy of 69.8%"
      ],
      "metadata": {
        "id": "4rR6IF3drm6n"
      }
    },
    {
      "cell_type": "markdown",
      "source": [
        "## Q3\n",
        "Precision, Recall, and F1 scores have been calculated in the performance report of each model (done above)"
      ],
      "metadata": {
        "id": "wj24_vNZSfBF"
      }
    },
    {
      "cell_type": "markdown",
      "source": [
        "## Q4"
      ],
      "metadata": {
        "id": "c6X3Y0xnSvBa"
      }
    },
    {
      "cell_type": "code",
      "source": [
        "from sklearn.metrics import confusion_matrix, ConfusionMatrixDisplay\n",
        "cm = confusion_matrix(Y_test_int, clf3.predict(X_test), labels=clf3.classes_)\n",
        "disp = ConfusionMatrixDisplay(confusion_matrix=cm, display_labels=clf3.classes_)\n",
        "disp.plot()\n",
        "plt.show()"
      ],
      "metadata": {
        "colab": {
          "base_uri": "https://localhost:8080/",
          "height": 509
        },
        "id": "Rb8BmHXATq_t",
        "outputId": "51757236-c63c-489f-a6c0-aaea9f29c134"
      },
      "execution_count": null,
      "outputs": [
        {
          "output_type": "display_data",
          "data": {
            "text/plain": [
              "<Figure size 800x550 with 2 Axes>"
            ],
            "image/png": "[encoded data removed]"
          },
          "metadata": {}
        }
      ]
    },
    {
      "cell_type": "markdown",
      "source": [
        "We see that prediction of 'l' has very low accuracy. This could be due to the fact that the main identifying feature of 'l', a vertical line, is a part of several other characters as well ('i', 'f', 'j', 'b','d').\n",
        "\n",
        "Prediction of 'r' may have low accuracy due to the lower number of samples of 'r' present in the dataset.\n",
        "\n",
        "Prediction of 'o' has low accuracy due to reasons similar to that of 'l'. The main feature, a circle, is a part of other characters like 'a', 'g', 'q'.\n",
        "\n",
        "'b', 'g' and 'i' have low accuracy of prediction. There are lesser samples of 'g' and 'i' in the dataset in comparison to other characters which may have caused this. In cases where characters have similar features, the model usually favours the character with a higher number of samples (in the dataset) while predicting. \\\n",
        "The accuracy may be low here again due to reasons similar to that of 'l', for instance we see that 'b' and 'h' have a high degree of overlap, leading the model to possibly confuse one for the other. 'g', 'b' and 'o' have a similar circular feature."
      ],
      "metadata": {
        "id": "Cx_g2_rUWauK"
      }
    },
    {
      "cell_type": "markdown",
      "source": [
        "## Q5\n",
        "Bagging : Bagging and Random Forest are quite similar algorithms. They only differ at the node level spitting stage. Bagging uses all the features to decide the best split whereas Random Forest uses a random subset of features. Bagging does not seem to be effective in our case."
      ],
      "metadata": {
        "id": "0gvRRRMwvDFK"
      }
    },
    {
      "cell_type": "code",
      "source": [
        "from sklearn.ensemble import BaggingClassifier\n",
        "from sklearn.metrics import accuracy_score\n",
        "clf4=BaggingClassifier(n_estimators=2000, base_estimator=None)\n",
        "clf4\n",
        "clf4.fit(X_train, Y_train_int)\n",
        "print(accuracy_score(Y_test_int,clf4.predict(X_test)))"
      ],
      "metadata": {
        "colab": {
          "base_uri": "https://localhost:8080/"
        },
        "id": "b5tXdkA-vHiE",
        "outputId": "b9b4f852-f64c-4e07-964f-fb529a17cef2"
      },
      "execution_count": null,
      "outputs": [
        {
          "output_type": "stream",
          "name": "stdout",
          "text": [
            "0.649\n"
          ]
        }
      ]
    },
    {
      "cell_type": "markdown",
      "source": [
        "Tesseract OCR: The Tesseract OCR is Google's built in engine for OCR. It is the most powerful tool for performing OCR today."
      ],
      "metadata": {
        "id": "q3bzFFYg3LeE"
      }
    },
    {
      "cell_type": "code",
      "source": [
        "!sudo apt install tesseract-ocr\n",
        "!pip install pytesseract"
      ],
      "metadata": {
        "id": "f4Xo8IA83umV"
      },
      "execution_count": null,
      "outputs": []
    },
    {
      "cell_type": "code",
      "source": [
        "import pytesseract\n",
        "import shutil\n",
        "import os\n",
        "import random\n",
        "try:\n",
        " from PIL import Image\n",
        "except ImportError:\n",
        " import Image"
      ],
      "metadata": {
        "id": "ZzWNOpKy4IBz"
      },
      "execution_count": null,
      "outputs": []
    },
    {
      "cell_type": "code",
      "source": [
        "dataset = loadImages(image_path)\n",
        "image_path_in_colab=dataset[0]\n",
        "\n",
        "extractedInformation = pytesseract.image_to_string(Image.open(image_path_in_colab))\n",
        "print(extractedInformation)"
      ],
      "metadata": {
        "id": "DAiPQjf43v84"
      },
      "execution_count": null,
      "outputs": []
    },
    {
      "cell_type": "markdown",
      "source": [
        "We can use techniques like data augmentation to increase the size of our dataset. This will improve the performance of the model. Deskew can also be done to correct the orientation of the sample images."
      ],
      "metadata": {
        "id": "O8uXVJNo5kJG"
      }
    }
  ]
}